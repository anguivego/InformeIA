{
 "cells": [
  {
   "cell_type": "markdown",
   "metadata": {},
   "source": [
    "**Laboratorio II**  \n",
    "**Inteligencia Artificial**   \n",
    "**Andres Guillermo Velasquez Gomez**\n",
    "\n",
    "\n",
    "En este laboratorio trabajaremos con la base de datos Iris. Esta base de datos ha sido empleada con mucha frecuencia en problemas de reconocimiento de patrones. La base de datos Iris está en la dirección https: //archive.ics.uci.edu/ml/machine-learning-databases/iris/iris.data. Una descripción de esta base de datos se puede encontrar en https://archive.ics.uci.edu/ml/machine-learning-databases/ iris/iris.names.\n",
    "Usando validación cruzada de cinco particiones, evalué el desempeño de los siguientes algoritmos de clasificación\n",
    "\n",
    "* Clasificación lineal con mínimos cuadrados (función discriminante).\n",
    "* Clasificación lineal con el clasificador Bayesiano (modelo generativo).\n",
    "* Clasificación lineal con regresión logística (modelo discriminativo). \n",
    "\n",
    "En este último caso se tienen dos opciones\n",
    "* Usar clasificadores biclase, y a continuación usar los enfoques uno contra uno o uno contra todos, para el problema multiclase.\n",
    "* Generalizar la regresión logística para múltiples clases. Para esto leer el libro de Bishop, la sección 4.3.4, “Multiclass logistic regression”.\n",
    "\n",
    "Reporte la media y desviación estándar de las cinco validaciones. La medida de desempeño es el “accurracy”.\n",
    "\n",
    "## Representacion de los Datos\n",
    "\n",
    "tomado de http://bl.ocks.org/mbostock/3213173\n",
    "\n",
    "![Flowers](flowers.png)\n",
    "\n",
    "\n",
    "\n",
    "## Resultados\n",
    "\n",
    "A continuacion se presentan los resultados para los 3 metodos de clasificacion evaluados, para el metodo de regresion logistica se utilizo la generalizacion de la regresion logistica utilizando la funcion softmax. se realizo validacion cruzada de 5 particiones y se calculo la media y desviacion estandar para cada uno de los metodos.\n",
    "\n",
    "Para obtener los parametros de la regresion logistica extendida se utilizo gradiente descendiente.\n",
    "\n",
    "\n",
    "|**Metodo**|**Media**|**Desviacion Estandar**|\n",
    "|---|:---:|:---:|\n",
    "|**Clasificación lineal con mínimos cuadrados**| 77.33%  | 0.7733  |\n",
    "|  **Clasificación lineal con el clasificador Bayesiano** |     94.67%  | 0.0380  |\n",
    "|  **Clasificación lineal con regresión logística** |  98.67% | 0.0183  |\n",
    "\n",
    "\n",
    "### Conclusiones \n",
    "\n",
    "En la representacion grafica de los datos podemos observar que tenemos dos clase que no son linealmente separables y estamos utilizando clasificadores lineales lo que puede explicar nuestro % de error en la clasificacion. tambien se puede observar el desempeño de los metodos 2 y 3 , comparado con el metodo 1. \n",
    "\n",
    "\n",
    "\n",
    "### Codigo fuente\n",
    "https://github.com/anguivego/InformeIA/tree/master/lab3\n",
    "\n",
    "### Referencias\n",
    "\n",
    "http://ufldl.stanford.edu/wiki/index.php/Softmax_Regression\n",
    "http://cs231n.github.io/linear-classify/#loss\n",
    "\n"
   ]
  }
 ],
 "metadata": {
  "kernelspec": {
   "display_name": "Octave",
   "language": "octave",
   "name": "octave_kernel"
  },
  "language_info": {
   "file_extension": ".m",
   "help_links": [
    {
     "text": "MetaKernel Magics",
     "url": "https://github.com/calysto/metakernel/blob/master/metakernel/magics/README.md"
    }
   ],
   "mimetype": "text/x-octave",
   "name": "octave_kernel"
  }
 },
 "nbformat": 4,
 "nbformat_minor": 0
}
