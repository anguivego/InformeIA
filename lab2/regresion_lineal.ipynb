{
 "cells": [
  {
   "cell_type": "markdown",
   "metadata": {},
   "source": [
    "**Laboratorio II**  \n",
    "**Inteligencia Artificial**   \n",
    "**Andres Guillermo Velasquez Gomez**\n",
    "\n",
    "\n",
    "El archivo ejemplo regresion.mat contiene los vectores x, y y t. En este ejemplo, x ∈ R (el espacio de entrada es unidimensional), los datos de entrada está agrupados en el vector x, los datos de salida sin ruido están agrupados en el vector y, y los datos de salida con ruido están agrupados en el vector t.\n",
    "Usando validación cruzada de cinco particiones, evalúe el desempeño de los siguientes algoritmos de regresión en funcíon de M (el número de funciones base), N (el número de datos de entrenamiento), y φ(·) (el tipo de funcíon base),\n",
    "\n",
    "* Regresión lineal con máxima verosimilitud.\n",
    "\n",
    "* Regresión lineal con regularización cuadrática. \n",
    "\n",
    "* Regresión Bayesiana lineal. \n",
    "\n",
    "Reporte la media y desviación estándar de las cinco validaciones. La medida de desempeño es el error cuadrático medio."
   ]
  },
  {
   "cell_type": "code",
   "execution_count": 15,
   "metadata": {
    "collapsed": false,
    "scrolled": false
   },
   "outputs": [
    {
     "data": {
      "image/png": "[encoded data removed]",
      "text/plain": [
       "<IPython.core.display.Image object>"
      ]
     },
     "metadata": {},
     "output_type": "display_data"
    },
    {
     "data": {},
     "execution_count": 15,
     "metadata": {},
     "output_type": "execute_result"
    }
   ],
   "source": [
    "data=load('ejemplo_regresion.mat');\n",
    "xNtot=data.x;\n",
    "yNtot=data.y;\n",
    "tNtot=data.t;\n",
    "plot(xNtot,yNtot,'r');\n",
    "hold on;\n",
    "ylim([-2 2])\n",
    "plot(xNtot,tNtot,'+','MarkerSize',2);\n",
    "h_legend=legend('Funcion original','Muestras');\n",
    "set(h_legend,'FontSize',7);\n"
   ]
  },
  {
   "cell_type": "markdown",
   "metadata": {},
   "source": [
    "#1. Regresión Lineal con máxima verosimilitud"
   ]
  },
  {
   "cell_type": "code",
   "execution_count": 16,
   "metadata": {
    "collapsed": false
   },
   "outputs": [
    {
     "data": {
      "image/png": "[encoded data removed]",
      "text/plain": [
       "<IPython.core.display.Image object>"
      ]
     },
     "metadata": {},
     "output_type": "display_data"
    },
    {
     "data": {},
     "execution_count": 16,
     "metadata": {},
     "output_type": "execute_result"
    }
   ],
   "source": [
    "Ntot=size(xNtot,1);\n",
    "N=100;\n",
    "index=randperm(Ntot);\n",
    "t=tNtot(index(1:N));\n",
    "x=xNtot(index(1:N));\n",
    "tipofb='exp';\n",
    "M=15;\n",
    "PHI=genBasisFunction(tipofb,xNtot,Ntot,M);\n",
    "plot(xNtot, PHI, 'linewidth', 1.5)\n"
   ]
  },
  {
   "cell_type": "markdown",
   "metadata": {},
   "source": [
    "Calculo de PHI para los datos de entrenamiento."
   ]
  },
  {
   "cell_type": "code",
   "execution_count": 17,
   "metadata": {
    "collapsed": false
   },
   "outputs": [
    {
     "data": {},
     "execution_count": 17,
     "metadata": {},
     "output_type": "execute_result"
    }
   ],
   "source": [
    "PHI_train=genBasisFunction(tipofb,x,N,M);"
   ]
  },
  {
   "cell_type": "markdown",
   "metadata": {},
   "source": [
    "Se calcula la solucion de maxima verosimilitud para w y beta."
   ]
  },
  {
   "cell_type": "code",
   "execution_count": 18,
   "metadata": {
    "collapsed": false
   },
   "outputs": [
    {
     "data": {
      "text/plain": [
       "[\bWarning: Matrix is close to singular or badly scaled. Results may be\n",
       "inaccurate. RCOND =  3.291416e-18.]\b \n",
       "[\b  In pymat_eval at 38\n",
       "  In matlabserver at 27]\b"
      ]
     },
     "execution_count": 18,
     "metadata": {},
     "output_type": "execute_result"
    }
   ],
   "source": [
    "Wml=inv(PHI_train'*PHI_train)*PHI_train'*t;\n",
    "B=(1/N)*(t-PHI_train*Wml)'*(t-PHI_train*Wml);"
   ]
  },
  {
   "cell_type": "markdown",
   "metadata": {},
   "source": [
    "Calculemos la prediccion sobre todo el espacio de entrada y se grafica"
   ]
  },
  {
   "cell_type": "code",
   "execution_count": 19,
   "metadata": {
    "collapsed": false
   },
   "outputs": [
    {
     "data": {
      "image/png": "[encoded data removed]",
      "text/plain": [
       "<IPython.core.display.Image object>"
      ]
     },
     "metadata": {},
     "output_type": "display_data"
    },
    {
     "data": {},
     "execution_count": 19,
     "metadata": {},
     "output_type": "execute_result"
    }
   ],
   "source": [
    "plot(xNtot, yNtot, 'r',x, t, '.b',xNtot,PHI*Wml,'--');\n",
    "h_legend=legend('Funcion original','Muestras','Modelo');\n",
    "set(h_legend,'FontSize',7);\n",
    "ylim([-2 2]);"
   ]
  },
  {
   "cell_type": "markdown",
   "metadata": {},
   "source": [
    "#2. Regresión Lineal con máxima verosimilitud y regularizacion cuadratica"
   ]
  },
  {
   "cell_type": "code",
   "execution_count": 20,
   "metadata": {
    "collapsed": false
   },
   "outputs": [
    {
     "data": {},
     "execution_count": 20,
     "metadata": {},
     "output_type": "execute_result"
    }
   ],
   "source": [
    "%reset workspace\n",
    "data=load('ejemplo_regresion.mat');\n",
    "xNtot=data.x;\n",
    "yNtot=data.y;\n",
    "tNtot=data.t;"
   ]
  },
  {
   "cell_type": "code",
   "execution_count": 21,
   "metadata": {
    "collapsed": false
   },
   "outputs": [
    {
     "data": {},
     "execution_count": 21,
     "metadata": {},
     "output_type": "execute_result"
    }
   ],
   "source": [
    "Ntot=size(xNtot,1);\n",
    "N=100;\n",
    "index=randperm(Ntot);\n",
    "t=tNtot(index(1:N));\n",
    "x=xNtot(index(1:N));\n",
    "tipofb='exp';\n",
    "M=50;\n",
    "PHI=genBasisFunction(tipofb,xNtot,Ntot,M);\n",
    "%plot(xNtot, PHI, 'linewidth', 1.5)"
   ]
  },
  {
   "cell_type": "markdown",
   "metadata": {},
   "source": [
    "Calculamos PHI para los datos de entrenamiento."
   ]
  },
  {
   "cell_type": "code",
   "execution_count": 22,
   "metadata": {
    "collapsed": false
   },
   "outputs": [
    {
     "data": {},
     "execution_count": 22,
     "metadata": {},
     "output_type": "execute_result"
    }
   ],
   "source": [
    "PHI_train=genBasisFunction(tipofb,x,N,M);"
   ]
  },
  {
   "cell_type": "markdown",
   "metadata": {},
   "source": [
    "Se calcula la solucion de maxima verosimilitud con regularización para w y beta."
   ]
  },
  {
   "cell_type": "code",
   "execution_count": 23,
   "metadata": {
    "collapsed": false
   },
   "outputs": [
    {
     "data": {},
     "execution_count": 23,
     "metadata": {},
     "output_type": "execute_result"
    }
   ],
   "source": [
    "lamda=0.004;\n",
    "Wml=inv(lamda*eye(M)+PHI_train'*PHI_train)*PHI_train'*t;\n",
    "B=(1/N)*(t-PHI_train*Wml)'*(t-PHI_train*Wml);"
   ]
  },
  {
   "cell_type": "markdown",
   "metadata": {},
   "source": [
    "Calculemos la prediccion sobre todo el espacio de entrada y se grafica"
   ]
  },
  {
   "cell_type": "code",
   "execution_count": 24,
   "metadata": {
    "collapsed": false
   },
   "outputs": [
    {
     "data": {
      "image/png": "[encoded data removed]",
      "text/plain": [
       "<IPython.core.display.Image object>"
      ]
     },
     "metadata": {},
     "output_type": "display_data"
    },
    {
     "data": {},
     "execution_count": 24,
     "metadata": {},
     "output_type": "execute_result"
    }
   ],
   "source": [
    "plot(xNtot, yNtot, 'r',x, t, '.b',xNtot,PHI*Wml,'--');\n",
    "h_legend=legend('Funcion original','Muestras','Modelo');\n",
    "set(h_legend,'FontSize',7);\n",
    "ylim([-2 2]);"
   ]
  },
  {
   "cell_type": "markdown",
   "metadata": {},
   "source": [
    "#3. Regresíon Bayesiana lineal"
   ]
  },
  {
   "cell_type": "code",
   "execution_count": 25,
   "metadata": {
    "collapsed": false
   },
   "outputs": [
    {
     "data": {},
     "execution_count": 25,
     "metadata": {},
     "output_type": "execute_result"
    }
   ],
   "source": [
    "%reset workspace\n",
    "plot_variance = @(x,lower,upper,color) set(fill([x,x(end:-1:1)],[upper,lower(end:-1:1)],color),'EdgeColor',color);\n",
    "data=load('ejemplo_regresion.mat');\n",
    "xNtot=data.x;\n",
    "yNtot=data.y;\n",
    "tNtot=data.t;"
   ]
  },
  {
   "cell_type": "markdown",
   "metadata": {},
   "source": [
    "Se separan los datos de entrenamiento y validación."
   ]
  },
  {
   "cell_type": "code",
   "execution_count": 26,
   "metadata": {
    "collapsed": false
   },
   "outputs": [
    {
     "data": {},
     "execution_count": 26,
     "metadata": {},
     "output_type": "execute_result"
    }
   ],
   "source": [
    "Ntot=size(xNtot,1);\n",
    "N=100;\n",
    "index=randperm(Ntot);\n",
    "t=tNtot(index(1:N));\n",
    "x=xNtot(index(1:N));\n",
    "tipofb='exp';\n",
    "M=30;\n",
    "ttest = tNtot(index(N+1:end));\n",
    "xtest = xNtot(index(N+1:end));"
   ]
  },
  {
   "cell_type": "markdown",
   "metadata": {},
   "source": [
    "Se calcula la matriz de diseño para lso datos de entrenamiento."
   ]
  },
  {
   "cell_type": "code",
   "execution_count": 27,
   "metadata": {
    "collapsed": false,
    "scrolled": false
   },
   "outputs": [
    {
     "data": {
      "image/png": "[encoded data removed]",
      "text/plain": [
       "<IPython.core.display.Image object>"
      ]
     },
     "metadata": {},
     "output_type": "display_data"
    },
    {
     "data": {},
     "execution_count": 27,
     "metadata": {},
     "output_type": "execute_result"
    }
   ],
   "source": [
    "PHI=genBasisFunction(tipofb,x,N,M);\n",
    "plot(x, PHI,'+','MarkerSize',2);"
   ]
  },
  {
   "cell_type": "code",
   "execution_count": 31,
   "metadata": {
    "collapsed": false
   },
   "outputs": [
    {
     "data": {
      "image/png": "[encoded data removed]",
      "text/plain": [
       "<IPython.core.display.Image object>"
      ]
     },
     "metadata": {},
     "output_type": "display_data"
    },
    {
     "data": {
      "text/plain": [
       "[\bWarning: Matrix is close to singular or badly scaled. Results may be\n",
       "inaccurate. RCOND =  1.203371e-19.]\b \n",
       "[\b  In pymat_eval at 38\n",
       "  In matlabserver at 27]\b"
      ]
     },
     "execution_count": 31,
     "metadata": {},
     "output_type": "execute_result"
    }
   ],
   "source": [
    "[alpha,betae]=findAlphaBeta(PHI,M,N,t);\n",
    "\n",
    "PHIt = genBasisFunction(tipofb,xNtot,Ntot,M);\n",
    "SnInv = alpha*(length(x)) + betae*(PHI'*PHI);\n",
    "Sn = SnInv\\eye(M);\n",
    "mn = betae*(Sn*PHI'*t);\n",
    "mean_pre=PHIt*mn;\n",
    "varianza=inv(betae*eye(length(xNtot)))+PHIt*Sn*PHIt';\n",
    "varianza=diag(sqrt(varianza'));\n",
    "plot_variance(xNtot',(mean_pre-2*varianza)',(mean_pre+2*varianza)',[1 0.1 0.1])\n",
    "%set(gca, 'ylim', [-1.5 1.5]);\n",
    "set(gcf,'units','points','position',[0,0,500,500])"
   ]
  }
 ],
 "metadata": {
  "kernelspec": {
   "display_name": "Matlab",
   "language": "matlab",
   "name": "matlab_kernel"
  },
  "language_info": {
   "file_extension": ".m",
   "help_links": [
    {
     "text": "MetaKernel Magics",
     "url": "https://github.com/calysto/metakernel/blob/master/metakernel/magics/README.md"
    }
   ],
   "mimetype": "text/x-matlab",
   "name": "octave"
  }
 },
 "nbformat": 4,
 "nbformat_minor": 0
}
